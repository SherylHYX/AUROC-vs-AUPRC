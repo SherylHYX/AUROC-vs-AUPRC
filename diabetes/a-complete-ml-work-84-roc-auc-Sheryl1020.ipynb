{
 "cells": [
  {
   "cell_type": "code",
   "execution_count": null,
   "metadata": {
    "_cell_guid": "b1076dfc-b9ad-4769-8c92-a6c4dae69d19",
    "_uuid": "8f2839f25d086af736a60e9eeb907d3b93b6e0e5"
   },
   "outputs": [],
   "source": [
    "# This Python 3 environment comes with many helpful analytics libraries installed\n",
    "# It is defined by the kaggle/python docker image: https://github.com/kaggle/docker-python\n",
    "# For example, here's several helpful packages to load in \n",
    "\n",
    "import numpy as np # linear algebra\n",
    "import pandas as pd # data processing, CSV file I/O (e.g. pd.read_csv)\n",
    "import warnings\n",
    "warnings.filterwarnings('ignore')\n",
    "\n",
    "# Input data files are available in the \"../input/\" directory.\n",
    "# For example, running this (by clicking run or pressing Shift+Enter) will list the files in the input directory\n",
    "\n",
    "import os\n",
    "print(os.listdir(\"../input\"))\n",
    "\n",
    "# Any results you write to the current directory are saved as output."
   ]
  },
  {
   "cell_type": "markdown",
   "metadata": {
    "_uuid": "8d78e836a9446bfca189e3f47ded09690d744047"
   },
   "source": [
    "# Part 1. Read data and class distribution.\n",
    "\n",
    "In this part I will read the data and obtain the dataset: Diabetes.\n",
    "After that, I will analyze a bit the data and see the distribution. The most important question of this part are:\n",
    "* How is the data distributed? \n",
    "*  Is it balanced?\n",
    "\n",
    "Is important to know the answer to those questions, to know the evaluation metrics that we wil use."
   ]
  },
  {
   "cell_type": "code",
   "execution_count": null,
   "metadata": {
    "_uuid": "8c78829efd6de07669bc1b6b28c36258d0e57a98"
   },
   "outputs": [],
   "source": [
    "diabetes= pd.read_csv(\"../input/diabetes.csv\")\n",
    "print (diabetes.shape)\n",
    "print (\"--\"*30)\n",
    "print (diabetes.info())\n"
   ]
  },
  {
   "cell_type": "markdown",
   "metadata": {
    "_uuid": "4425404351f829eaa8ed1f042e9375672efe2b30"
   },
   "source": [
    "From 768 samples, we have no null values. So the data is perfectly clean. At least in apperance."
   ]
  },
  {
   "cell_type": "code",
   "execution_count": null,
   "metadata": {
    "_uuid": "7f22381a66ea488bbf1eb7004e2149f4eb3fa1d6"
   },
   "outputs": [],
   "source": [
    "diabetes.head()\n",
    "diabetes.describe()"
   ]
  },
  {
   "cell_type": "markdown",
   "metadata": {
    "_uuid": "8afe970d56407dda20fb088d1f930e5c5e9ee583"
   },
   "source": [
    "Now, we can see the problem. I am not a doctor but I imagine that having a Blood Pressure of 0 is equivalent to be dead. Also, a SkinThickness, insulin, glucose or BMI of 0 do not correlate good with the fact of being a living being.\n",
    "\n",
    "Because of that, the data is NOT clean, and we need to take action."
   ]
  },
  {
   "cell_type": "markdown",
   "metadata": {
    "_uuid": "b8fdeb1e8d85653db34b74acd73130df0559df4c"
   },
   "source": [
    "But before we take action, it is useful to know how the data is distributed. At the end of the day, I need to do a binary classification. \n",
    "\n",
    "Given a few features, I need to predict if someone has diabetes. Yes or no. So, knowing the distribution of the data is essential."
   ]
  },
  {
   "cell_type": "code",
   "execution_count": null,
   "metadata": {
    "_uuid": "b9f136b5349fea3d0dd149484b88f8a42088670e"
   },
   "outputs": [],
   "source": [
    "# class distribution\n",
    "print(\" Outcome distribution\")\n",
    "print(diabetes.groupby('Outcome').size())"
   ]
  },
  {
   "cell_type": "markdown",
   "metadata": {
    "_uuid": "b3ce2cfce91f33bc72a6446d9f94bf618d9c4573"
   },
   "source": [
    "So, we have 500 person with diabetes and 268 whithout it. We can clearly see that is an unbalanced dataset.\n",
    "It is critical to know this for a few reasons:\n",
    "\n",
    "* The algorithms of machine learning like LogisticRegression os SVM, tend to think that the data is balanced. But if the data is unbalanced they will put more weight on the majority class. In this case, the positive Outcome of diabetes. And this is very very bad.\n",
    "* The accuracy is not a useful metric now. For example, I have 100 emails, 99 good emails and 1 spam email. If I created and algorithm that always is going to put all emails in your inbox, then I will reach and accuracy of 99%. But I will not be performing a good job, becauase my job is to be sure that non spam came to your inbox. Because of that I will use other metrics, such as Roc_Auc, sensitivity, specificity...\n"
   ]
  },
  {
   "cell_type": "markdown",
   "metadata": {
    "_uuid": "3ce018c7c1bbb5cdab818269516c69f296eba294"
   },
   "source": [
    "# Part 2: EDA.\n",
    "\n",
    "Lets see how the data is distributed and how the features and outcome are correlated."
   ]
  },
  {
   "cell_type": "code",
   "execution_count": null,
   "metadata": {
    "_uuid": "f919a8ce2921163b2754c9e024aa8869fdd13760"
   },
   "outputs": [],
   "source": [
    "import matplotlib\n",
    "import matplotlib.pyplot as plt\n",
    "import seaborn as sns\n",
    "%matplotlib inline\n",
    "sns.set()"
   ]
  },
  {
   "cell_type": "markdown",
   "metadata": {
    "_uuid": "d25a995d9987e69e324eb04f564319fad1e6882c"
   },
   "source": [
    "## Data cleaning"
   ]
  },
  {
   "cell_type": "markdown",
   "metadata": {
    "_uuid": "6a727841ec1768d7e78be27822b9ee4ae9f39180"
   },
   "source": [
    "If we look at the data, we see that some features has null values, in this case with the apperances of 0. Because later I will perform some modeling with the raw data, now I am going to clean the data in a copy dataset."
   ]
  },
  {
   "cell_type": "code",
   "execution_count": null,
   "metadata": {
    "_uuid": "cbf582eb6d5c3275c2b76f3331b39504cde705fc"
   },
   "outputs": [],
   "source": [
    "#1) Replace 0 values to NaN values. Then sum the null values in each of those features,\n",
    "#to know how many null values we have.\n",
    "diabetes_copy=diabetes.copy(deep=True) ## We will need later the diabetes dataset with the 0s.\n",
    "\n",
    "diabetes[[\"Glucose\",\"BloodPressure\",\"SkinThickness\",\"Insulin\",\"BMI\"]]=diabetes[[\"Glucose\",\"BloodPressure\",\"SkinThickness\",\"Insulin\",\"BMI\"]].replace(0,np.NaN)\n",
    "print (diabetes.isnull().sum())\n",
    "diabetes.describe()"
   ]
  },
  {
   "cell_type": "markdown",
   "metadata": {
    "_uuid": "2585b6159b01b88abeb6b5f54f09bb778091f26a"
   },
   "source": [
    "I will replace all those values with the median.  The SkinThickness and insulin have a lot of null values. Because of that I will need to pay extra attention to those features in the visualizations tha I will make later."
   ]
  },
  {
   "cell_type": "code",
   "execution_count": null,
   "metadata": {
    "_uuid": "ec326b93ce55d32db4d252f4ea95705b0e827a1b"
   },
   "outputs": [],
   "source": [
    "# We replace the NaN values with the mean or median.\n",
    "# Glucose and BloodPressure dont have much outliers, and we need little data to fill. The mean will be enough.\n",
    "# The others, has a huge disparity between some samples, and we need a lot of data. So the median is best.\n",
    "diabetes[\"Glucose\"].fillna(diabetes[\"Glucose\"].mean(),inplace=True)\n",
    "diabetes[\"BloodPressure\"].fillna(diabetes[\"BloodPressure\"].mean(),inplace=True)\n",
    "diabetes[\"SkinThickness\"].fillna(diabetes[\"SkinThickness\"].median(),inplace=True)\n",
    "diabetes[\"Insulin\"].fillna(diabetes[\"Insulin\"].median(),inplace=True)\n",
    "diabetes[\"BMI\"].fillna(diabetes[\"BMI\"].median(),inplace=True)\n",
    "\n",
    "print (diabetes.isnull().sum())\n",
    "print ('--'*40)\n",
    "diabetes.info()\n",
    "print ('--'*40)\n",
    "diabetes.head()\n",
    "diabetes.describe()"
   ]
  },
  {
   "cell_type": "markdown",
   "metadata": {
    "_uuid": "ffce22b33040ac6f70986f9ea64156781d894b64"
   },
   "source": [
    "Perfect. The data is now perfectly clean."
   ]
  },
  {
   "cell_type": "markdown",
   "metadata": {
    "_uuid": "aaa832d60e8da476db15118d0543c4c5f168c01d"
   },
   "source": [
    "## Visualizations"
   ]
  },
  {
   "cell_type": "code",
   "execution_count": null,
   "metadata": {
    "_uuid": "8a965502fe5a37dadef44f9effb1c93c8750bd16"
   },
   "outputs": [],
   "source": [
    "plt.figure(figsize=(10,6))\n",
    "sns.distplot(diabetes['Pregnancies'],kde=False,bins=50)\n",
    "plt.title('Pregnancies per Person on Pima People')\n",
    "plt.ylabel('Number of People')\n",
    "plt.show()"
   ]
  },
  {
   "cell_type": "code",
   "execution_count": null,
   "metadata": {
    "_uuid": "6f075756cea1e4c0c6bf2d4d903c27dff740cb6d"
   },
   "outputs": [],
   "source": [
    "print('Average amount of children had by a Pima woman: ' + str(diabetes['Pregnancies'].mean()))\n"
   ]
  },
  {
   "cell_type": "markdown",
   "metadata": {
    "_uuid": "d0d330986b60f237595b0f7ff99c5824f4ab15d4"
   },
   "source": [
    "Some of the Pima women are having a lot of children, but the most popular case is 1 child per women. In anycase, later, with the bivariate plots we will see how is the relationship between pregnancies and diabetes."
   ]
  },
  {
   "cell_type": "code",
   "execution_count": null,
   "metadata": {
    "_uuid": "d0d689e705f12e79a94074990e3c7fe7c015d315"
   },
   "outputs": [],
   "source": [
    "plt.figure(figsize=(10,6))\n",
    "sns.distplot(diabetes['Glucose'],kde=False,bins=50)\n",
    "plt.title('Glucose per Person on Pima People')\n",
    "plt.ylabel('Number of People')\n",
    "plt.show()"
   ]
  },
  {
   "cell_type": "markdown",
   "metadata": {
    "_uuid": "8c0a3cc11cbe58fd9141aa7fa5b1c64f5fdb7e46"
   },
   "source": [
    "Kind of a normal distribution. This is good. I will not need to make any changes on this variable. Later, we will see how is the correlation between Glucose and Diabetes.\n"
   ]
  },
  {
   "cell_type": "code",
   "execution_count": null,
   "metadata": {
    "_uuid": "78e0ea0a0ae4c0a1f4995a57fb69f37abd9a4bf3"
   },
   "outputs": [],
   "source": [
    "plt.figure(figsize=(10,6))\n",
    "sns.distplot(diabetes['BloodPressure'],kde=False,bins=50)\n",
    "plt.title('Blood Pressure of Pima Indian People')\n",
    "plt.ylabel('Number of People')\n",
    "plt.show()"
   ]
  },
  {
   "cell_type": "markdown",
   "metadata": {
    "_uuid": "63c5c3b38ee53d9079bfc0a5c93e234dc5709f9b"
   },
   "source": [
    "Again, good news. It seems to be a normal distribution, and that means no change on the data later. Is a good distribution for the algorithms. Later we will see the relation it has with other features."
   ]
  },
  {
   "cell_type": "code",
   "execution_count": null,
   "metadata": {
    "_uuid": "6cbb4061ab2a44a5b64d987a945f52c891bfe437"
   },
   "outputs": [],
   "source": [
    "plt.figure(figsize=(10,6))\n",
    "sns.distplot(diabetes['SkinThickness'],kde=False,bins=50)\n",
    "plt.title('Skin Thickness of Pima Indian People')\n",
    "plt.ylabel('Number of People')\n",
    "plt.show()"
   ]
  },
  {
   "cell_type": "markdown",
   "metadata": {
    "_uuid": "51fe1a31771ee926936b705e4e7f2e0477c190af"
   },
   "source": [
    "Is completely normal that it looks like that. Remember that we had 227 null values on this data that were filled by the median. "
   ]
  },
  {
   "cell_type": "code",
   "execution_count": null,
   "metadata": {
    "_uuid": "e092ebf8bbaf92ef15f213fe4c8e8676e6b39f63"
   },
   "outputs": [],
   "source": [
    "plt.figure(figsize=(10,6))\n",
    "sns.distplot(diabetes['Insulin'],kde=False,bins=50)\n",
    "plt.title('Insulin of Pima Indian People')\n",
    "plt.ylabel('Number of People')\n",
    "plt.show()"
   ]
  },
  {
   "cell_type": "markdown",
   "metadata": {
    "_uuid": "8c0a707359541c525a6d992601558a9ca41cd508"
   },
   "source": [
    "Same case scenario as before. We will see later the correlation between features."
   ]
  },
  {
   "cell_type": "code",
   "execution_count": null,
   "metadata": {
    "_uuid": "634b357532fec66cb4c7f9481e04c60f2d7b3cf0"
   },
   "outputs": [],
   "source": [
    "plt.figure(figsize=(10,6))\n",
    "sns.distplot(diabetes['BMI'],kde=False,bins=50)\n",
    "plt.title('BMI of Pima Indian People')\n",
    "plt.ylabel('Number of People')\n",
    "plt.show()\n",
    "print('Average BMI of a Pima Person: ' + str(diabetes['BMI'].mean()))"
   ]
  },
  {
   "cell_type": "markdown",
   "metadata": {
    "_uuid": "d2115cf94faadd49a8ef63a57805d930d1157b87"
   },
   "source": [
    "Well it looks like a normal distribution, which is good. "
   ]
  },
  {
   "cell_type": "code",
   "execution_count": null,
   "metadata": {
    "_uuid": "eab60b770ce40436776a1093fcef50e59524bacd"
   },
   "outputs": [],
   "source": [
    "plt.figure(figsize=(10,6))\n",
    "sns.distplot(diabetes['DiabetesPedigreeFunction'],kde=False,bins=50)\n",
    "plt.title('Diabetes Pedigree Function of Pima Indian People')\n",
    "plt.ylabel('Number of People')\n",
    "plt.show()"
   ]
  },
  {
   "cell_type": "markdown",
   "metadata": {
    "_uuid": "de56e2a1bd4a4299f69b772511f899d7cc604ca2"
   },
   "source": [
    "Well it looks like a part of a log function or an inversal exp function. I do not like that, and later I will try to modify the data to make a normal gaussian distribution of this data. The reason as I have mentioned before is to make my algorithm work better. [Some of them]"
   ]
  },
  {
   "cell_type": "code",
   "execution_count": null,
   "metadata": {
    "_uuid": "7b3c95abf5ada301de3c4f746d6a7823ea2f8ce0"
   },
   "outputs": [],
   "source": [
    "plt.figure(figsize=(10,6))\n",
    "sns.distplot(diabetes['Age'],kde=False,bins=50)\n",
    "plt.title('Age of Pima Indian People')\n",
    "plt.ylabel('Number of People')\n",
    "plt.show()"
   ]
  },
  {
   "cell_type": "markdown",
   "metadata": {
    "_uuid": "0480b592e5be077aa5209233cc74cbddfd353669"
   },
   "source": [
    "Same case as before. It has a lot of young women, and the data is not normalli distributed. Later, I will fix that. It has a lot of young women, so if Age is an important feature, then that majority of young women will make the predictions fall a bit. At the end of the day, they have a lot of weight on this feature."
   ]
  },
  {
   "cell_type": "code",
   "execution_count": null,
   "metadata": {
    "_uuid": "cda41bf398bfb4e90ad16362cfbe16900c1f7915"
   },
   "outputs": [],
   "source": [
    "plt.figure(figsize=(8,6))\n",
    "sns.countplot(x='Outcome',data=diabetes)\n",
    "plt.title('Positive Outcome to Diabetes in Dataset')\n",
    "plt.ylabel('Number of People')\n",
    "plt.show()\n",
    "print('Ratio of Population with Diabetes: ' + str(len(diabetes[diabetes['Outcome']==1])/len(diabetes)))"
   ]
  },
  {
   "cell_type": "markdown",
   "metadata": {
    "_uuid": "16728b0d9ba4af3966202cff3974adadf20911ba"
   },
   "source": [
    "So we have an inbalanced dataset. Is not huge, but I cannot allow to exist. I need to mitigate its effect. Because if that, later I will use SMOTE oversampling.\n"
   ]
  },
  {
   "cell_type": "markdown",
   "metadata": {
    "_uuid": "b49f3bc52c2ad3c620daf690f78d63ab065c2291"
   },
   "source": [
    "### Bivariate Analysis"
   ]
  },
  {
   "cell_type": "code",
   "execution_count": null,
   "metadata": {
    "_uuid": "f978097a37c0e96cfc06fe8daa162bfa0078b818"
   },
   "outputs": [],
   "source": [
    "plt.figure(figsize=(10,6))\n",
    "sns.heatmap(diabetes.corr(),cmap='YlGn',annot=True)\n",
    "plt.show()"
   ]
  },
  {
   "cell_type": "markdown",
   "metadata": {
    "_uuid": "a18e1a7056721a02f7f1f0161b745307b27c3bbf"
   },
   "source": [
    "* There are not strong correlation between features which is good. This way, I will not need to drop any feature because of a problem of overfitting.\n",
    "* There is no feature with a very strong correlation with the label, Outcome. The best is Glucose. I think, that if we had had more Insulin data, it would have a strong correlation. But with what we have, the better predictor is glucose.\n",
    "* There are some obvious correlations:\n",
    "    * Skin Thickness with BMI. The fatter you are, the more Skincircunference in your arms.\n",
    "    * Age with pregnancies. The older you are, it is more possible to have a child."
   ]
  },
  {
   "cell_type": "code",
   "execution_count": null,
   "metadata": {
    "_uuid": "13ed9c918aa4aeb71c9f8f2275a6bdb90627b545"
   },
   "outputs": [],
   "source": [
    "g = sns.FacetGrid(diabetes, col=\"Outcome\",size=5)\n",
    "g = g.map(plt.hist, \"Glucose\",bins=30)"
   ]
  },
  {
   "cell_type": "code",
   "execution_count": null,
   "metadata": {
    "_uuid": "8579aabd772c2738b9c8c131c6e7b95a9e562e25"
   },
   "outputs": [],
   "source": [
    "print('Average number of glucose for positive outcomes: ' + str(diabetes[diabetes['Outcome']==1]['Glucose'].mean()))\n",
    "print('Average number of glucose for negative outcomes: ' + str(diabetes[diabetes['Outcome']==0]['Glucose'].mean()))"
   ]
  },
  {
   "cell_type": "markdown",
   "metadata": {
    "_uuid": "40f731c87ee965bc088f765092401c3c119735cf"
   },
   "source": [
    "There is a normal looking population for Pima women without diabetes and their glucose levels. The population with diabetes have a different story to tell. The population with diabetes looks to have higher glucose levels."
   ]
  },
  {
   "cell_type": "code",
   "execution_count": null,
   "metadata": {
    "_uuid": "4e5dedf916c153a7347e875f366e08ed0211aa2b"
   },
   "outputs": [],
   "source": [
    "g = sns.FacetGrid(diabetes, col=\"Outcome\",size=5)\n",
    "g = g.map(plt.hist, \"BMI\",bins=30)"
   ]
  },
  {
   "cell_type": "markdown",
   "metadata": {
    "_uuid": "59ffe6517257c04f8bab734e3267509f3c33fae4"
   },
   "source": [
    "Both BMI readings for people with and without diabetes seem to have normal distributions. BMI of people with diabetes looks to be with a bit of  higher values, but not something exagerated. But yes, the more BMI the more possible to have diabetes."
   ]
  },
  {
   "cell_type": "code",
   "execution_count": null,
   "metadata": {
    "_uuid": "dc8e62cd84cb77f26718d12ac5603bdd0c4321ac"
   },
   "outputs": [],
   "source": [
    "print('Average Body Mass Index of a Pima woman without diabetes: ' + str(diabetes[diabetes['Outcome']==0]['BMI'].mean()))\n",
    "print('Average Body Mass Index of a Pima woman with diabetes: ' + str(diabetes[diabetes['Outcome']==1]['BMI'].mean()))"
   ]
  },
  {
   "cell_type": "markdown",
   "metadata": {
    "_uuid": "ec731ef37afb2729d4af60f31efca0eb17c2e8ba"
   },
   "source": [
    "There is no doubt that the population of Pima women are overweight. However, the population with diabetes is even more so."
   ]
  },
  {
   "cell_type": "code",
   "execution_count": null,
   "metadata": {
    "_uuid": "950ab3eb8abcf2c79bcd927c415df987cb73dcb9"
   },
   "outputs": [],
   "source": [
    "plt.figure(figsize=(10,6))\n",
    "sns.barplot(data=diabetes,x='Outcome',y='Pregnancies')\n",
    "plt.title('Pregnancies Among Diabetes Outcomes.')\n",
    "plt.show()"
   ]
  },
  {
   "cell_type": "markdown",
   "metadata": {
    "_uuid": "c3dccd63c0c0dacb56a25a067b115540c78d7ea5"
   },
   "source": [
    "So the women with fewer childs had less diabetes. I think that there is not much relation between Pregnancies and Outcome, but less think a bit.\n",
    "* If you have a lot of children, you need to fed them.  And in those cases the less expensive food are carbohhydrates which is the food who moves the Glucose-Insulin cycle. So, perharps is for that. But I dont know.\n",
    "* Lets see this other graph to grasp a bit of more domain knowledge."
   ]
  },
  {
   "cell_type": "code",
   "execution_count": null,
   "metadata": {
    "_uuid": "138e7403f8388ad56bd7c5e4e5bbbd48c4339901"
   },
   "outputs": [],
   "source": [
    "plt.figure(figsize=(10,6))\n",
    "sns.countplot(x='Pregnancies',data=diabetes,hue='Outcome')\n",
    "plt.title('Diabetes Outcome to Pregnancies')\n",
    "plt.show()\n",
    "print('Average number of pregnancies for positive outcomes: ' + str(diabetes[diabetes['Outcome']==1]['Pregnancies'].mean()))\n",
    "print('Average number of pregnancies for negative outcomes: ' + str(diabetes[diabetes['Outcome']==0]['Pregnancies'].mean()))"
   ]
  },
  {
   "cell_type": "code",
   "execution_count": null,
   "metadata": {
    "_uuid": "128025f58417dd0b3e762495ea38dc862c92efc8"
   },
   "outputs": [],
   "source": [
    "plt.figure(figsize=(13,6))\n",
    "sns.countplot(x='Age',data=diabetes,hue='Outcome')\n",
    "plt.title('Diabetes Outcome to Age')\n",
    "plt.show()"
   ]
  },
  {
   "cell_type": "code",
   "execution_count": null,
   "metadata": {
    "_uuid": "61052ab636dfebaebdaf24117215b495744d63d6"
   },
   "outputs": [],
   "source": [
    "print('Average number of age for positive outcomes: ' + str(diabetes[diabetes['Outcome']==1]['Age'].mean()))\n",
    "print('Average number of age for negative outcomes: ' + str(diabetes[diabetes['Outcome']==0]['Age'].mean()))"
   ]
  },
  {
   "cell_type": "markdown",
   "metadata": {
    "_uuid": "42d91e1d4db11b01366e47e9b7e4c4427a7ddfce"
   },
   "source": [
    "So, the older you are the most opportunities to have diabetes. And it is normal, at the end of the day, the older you are the more possibilites of having destroy your body with bad habits."
   ]
  },
  {
   "cell_type": "code",
   "execution_count": null,
   "metadata": {
    "_uuid": "61ab84c1f1c82789e02463281d08ed68cf94ca6d"
   },
   "outputs": [],
   "source": [
    "plt.figure(figsize=(13,6))\n",
    "sns.countplot(x='SkinThickness',data=diabetes,hue='Outcome')\n",
    "plt.title('Diabetes Outcome to SkinThickness')\n",
    "plt.show()"
   ]
  },
  {
   "cell_type": "code",
   "execution_count": null,
   "metadata": {
    "_uuid": "3194a549fcbcdbb2eb02a94ea4b35b26e6b7aab1"
   },
   "outputs": [],
   "source": [
    "print('Average number of skin thickness for positive outcomes: ' + str(diabetes[diabetes['Outcome']==1]['SkinThickness'].mean()))\n",
    "print('Average number of skin thickness for negative outcomes: ' + str(diabetes[diabetes['Outcome']==0]['SkinThickness'].mean()))"
   ]
  },
  {
   "cell_type": "markdown",
   "metadata": {
    "_uuid": "dbb3fdf5d16c427361e44268ab2fdf4bbdb5d143"
   },
   "source": [
    "Well this data is no so representative. Remember that we plugged in more than 250 values that did not exist. Anyways, what is clear is that the more fat you have around your arm [that is the measure of skin thickness], the more probabilities of developing diabetes. So, it has a lot of relation with BMI."
   ]
  },
  {
   "cell_type": "code",
   "execution_count": null,
   "metadata": {
    "_uuid": "868c59a3f001b78deb995d532a4b5df50199dc4a"
   },
   "outputs": [],
   "source": [
    "# Diabetes has a lot of values, so to plot it I need to make a few changes. The most important one is to\n",
    "# divide it in quartiles.\n",
    "diabetes_copy2= diabetes.copy(deep=True)\n",
    "diabetes_copy2[\"InsulinBins\"]=pd.qcut(diabetes[\"Insulin\"],4)\n",
    "#Now we can plot\n",
    "plt.figure(figsize=(13,6))\n",
    "sns.countplot(x='InsulinBins',data=diabetes_copy2,hue='Outcome')\n",
    "plt.title('Diabetes Outcome to Insulin')\n",
    "plt.show()"
   ]
  },
  {
   "cell_type": "code",
   "execution_count": null,
   "metadata": {
    "_uuid": "b66659189ab71a567c29d15e3ada242059562be4"
   },
   "outputs": [],
   "source": [
    "print('Average number of Insulin for positive outcomes: ' + str(diabetes[diabetes['Outcome']==1]['Insulin'].mean()))\n",
    "print('Average number of Insulin for negative outcomes: ' + str(diabetes[diabetes['Outcome']==0]['Insulin'].mean()))"
   ]
  },
  {
   "cell_type": "markdown",
   "metadata": {
    "_uuid": "5bad58f114d5561f1b6bbcf6ac587d0a9dfbc34c"
   },
   "source": [
    "Well same case as skin thickness. I think that with new data, Insulin will be essential to predict diabetes. Anyways, is clear that the higher blood insulin, the higher possibilites of developing diabetes. It has correlation with Glucose."
   ]
  },
  {
   "cell_type": "code",
   "execution_count": null,
   "metadata": {
    "_uuid": "4a21967262495df0d4bc4ef53e4a30a9f2f2b787"
   },
   "outputs": [],
   "source": [
    "diabetes_copy2[\"DiabetesPedigreeBins\"]=pd.qcut(diabetes[\"DiabetesPedigreeFunction\"],4)\n",
    "# Same reason as in insulin\n",
    "plt.figure(figsize=(13,6))\n",
    "sns.countplot(x='DiabetesPedigreeBins',data=diabetes_copy2,hue='Outcome')\n",
    "plt.title('Diabetes Outcome to DiabetesPedigreeFunction')\n",
    "plt.show()"
   ]
  },
  {
   "cell_type": "code",
   "execution_count": null,
   "metadata": {
    "_uuid": "eb95d512222d14a7b099e505e3ae42001d079c71"
   },
   "outputs": [],
   "source": [
    "print('Average number of Diabetes Pedigree Function for positive outcomes: ' + str(diabetes[diabetes['Outcome']==1]['DiabetesPedigreeFunction'].mean()))\n",
    "print('Average number of Diabetes Pedigree Function for negative outcomes: ' + str(diabetes[diabetes['Outcome']==0]['DiabetesPedigreeFunction'].mean()))"
   ]
  },
  {
   "cell_type": "markdown",
   "metadata": {
    "_uuid": "d5c31083cfc6581e3a72c4ebc6f68104b953efe4"
   },
   "source": [
    "This one is easy and not so easy. The data tell us that if your family has a tendency of having diabetes, you have more possibilites. And I agree with that, but the data does not tell us if this is a genetic question.\n",
    "\n",
    "* At the end of the day, our nuclear family show us with their actions what is good and bad when we are children. If my parents have developed diabetes because of their bad habits, I will adopt those habits and develope diabetes.\n",
    "* It also can be a genetic problem. An endocrine problem pass though generations.\n",
    "* In any case, the data do not specify. So, let us see us."
   ]
  },
  {
   "cell_type": "code",
   "execution_count": null,
   "metadata": {
    "_uuid": "d9b35fb66797952c94247c0b7d86e6ba2545b82a"
   },
   "outputs": [],
   "source": [
    "diabetes_copy2[\"GlucoseBins\"]=pd.qcut(diabetes[\"Glucose\"],4)\n",
    "plt.figure(figsize=(13,6))\n",
    "sns.countplot(x='GlucoseBins',data=diabetes_copy2,hue='DiabetesPedigreeBins')\n",
    "plt.title('Glucose and Diabetes Pedigree relationship.')\n",
    "plt.show()"
   ]
  },
  {
   "cell_type": "markdown",
   "metadata": {
    "_uuid": "3e3cf6b3748fa2eafb45137c564444af8893ac62"
   },
   "source": [
    "* The people with less Glucose, tend to be the ones with less family with diabetes. And glucose levels have relation with food, not hormones, so it is not an endocrine problem. With Insulin yes, with glucose no.\n",
    "* The people with more glucose, tend to have more family with diabetes.\n",
    "    * So, it seems that it is more a habit problem than a genetic problem.\n",
    "    * But we are not sure. We need more data, at least insulin data to come to understand well the problem. Is for that reason that i am not going to drop the Pedigree Function. \n",
    "    * If the Pedigree function is just for bad habits, then it will not help to predict anything in the real world. Well, it will help to predict how bad habits pass from one generation to the next, but it will not help to say: You are going to have diabetes."
   ]
  },
  {
   "cell_type": "code",
   "execution_count": null,
   "metadata": {
    "_uuid": "0f1303a039face56d32c61e26757ececa48e2512"
   },
   "outputs": [],
   "source": [
    "plt.figure(figsize=(13,6))\n",
    "sns.countplot(x='BloodPressure',data=diabetes,hue='Outcome')\n",
    "plt.title('Diabetes Outcome to BloodPressure')\n",
    "plt.show()"
   ]
  },
  {
   "cell_type": "code",
   "execution_count": null,
   "metadata": {
    "_uuid": "4faef836d32b0391017d0ca06e09ff13b3ef72c7"
   },
   "outputs": [],
   "source": [
    "print('Average number of Blood Presure for positive outcomes: ' + str(diabetes[diabetes['Outcome']==1]['BloodPressure'].mean()))\n",
    "print('Average number of Blood Pressure for negative outcomes: ' + str(diabetes[diabetes['Outcome']==0]['BloodPressure'].mean()))"
   ]
  },
  {
   "cell_type": "markdown",
   "metadata": {
    "_uuid": "ffc0de1a4e611a60f756d4851b80b2d6214a838b"
   },
   "source": [
    "Well, higher blood pressure, more possibilites of diabetes. But it does not seem to be particularly important. Also, I think that it have relation with BMI. The fatter you are, the more blood pressure in a relaxed state."
   ]
  },
  {
   "cell_type": "code",
   "execution_count": null,
   "metadata": {
    "_uuid": "8f778d89b02c6c4a9174bb9ff694c85854676027"
   },
   "outputs": [],
   "source": [
    "diabetes_copy2[\"BloodPressureBins\"]=pd.qcut(diabetes[\"BloodPressure\"],4)\n",
    "diabetes_copy2[\"BMIBins\"]=pd.qcut(diabetes[\"BMI\"],4)\n",
    "\n",
    "plt.figure(figsize=(13,6))\n",
    "sns.countplot(x='BloodPressureBins',data=diabetes_copy2,hue='BMIBins')\n",
    "plt.title('BMI relation with BloodPressure')\n",
    "plt.show()"
   ]
  },
  {
   "cell_type": "markdown",
   "metadata": {
    "_uuid": "37f2514f40bea7217860274b5b0098e0f71e772f"
   },
   "source": [
    "And the relation is clear as water. When the blood pressure is low, the BMI is low. When the Blood Pressure is high, BMI is high."
   ]
  },
  {
   "cell_type": "markdown",
   "metadata": {
    "_uuid": "56e423b8c40d7bd30049f49b7d531fc9370a4402"
   },
   "source": [
    "### Features and relationships.\n",
    "\n",
    "* BMI, skin_thickness and blood pressure I think that have a close relation.\n",
    "* Age and pregnancies.\n",
    "* Glucose, Insulin and Pedigree.\n",
    "* Because of all of this, if the dataset was huge, I will drop later pregnancies, blood pressure and other data that is not so important. But this dataset is small, so there is no problem. I will keep all the features."
   ]
  },
  {
   "cell_type": "markdown",
   "metadata": {
    "_uuid": "3e8dbb0e247ebd314df20fdfe3ce26923f5da53c"
   },
   "source": [
    "## Distributed data in a single plot\n",
    "\n",
    "How is the data distributed among the features? It is useful to know, becauase that way we can do a better feature scaling latter."
   ]
  },
  {
   "cell_type": "code",
   "execution_count": null,
   "metadata": {
    "_uuid": "1eb297e1d983cd47613f9a883983728499b90dce"
   },
   "outputs": [],
   "source": [
    "diabetes.hist(figsize=(8,8))\n",
    "plt.show()"
   ]
  },
  {
   "cell_type": "markdown",
   "metadata": {
    "_uuid": "215e3d495bd4fbc0bb57b4a6efdcfb46a685b2a7"
   },
   "source": [
    "Well, I will do Standar Scaling, to normalize the data. "
   ]
  },
  {
   "cell_type": "markdown",
   "metadata": {
    "_uuid": "3e404c9133a7950e904a0f5df4c30b9c1674be27"
   },
   "source": [
    "# Part 3: Modeling and feature_engineering"
   ]
  },
  {
   "cell_type": "markdown",
   "metadata": {
    "_uuid": "b63ccdd38b8173321069273da225ae33316a2fb7"
   },
   "source": [
    "Because of that unbalanced dataset I will use roc_auc score as the metric of success. Also I will use the confusion matrix to calculate the sensitivity and specificity. Lasty, I will also use accuracy, but this one does not prove anything in an unbalanced dataset.\n",
    "\n",
    "I will use a bunch of algorithms. The ones that perform better, will be analyze in more detail [sensitivity, specifity and roc_auc score]"
   ]
  },
  {
   "cell_type": "markdown",
   "metadata": {
    "_uuid": "9dc0d7ff0729aec2d62db2b50fa0c5df712afdf9"
   },
   "source": [
    "# Baseline model.\n",
    "\n",
    "I will calculate the roc_auc in each step of cleaning, scaling and oversampling the data, to see how changes the roc_auc, sensitivity, specifity and accuracy through each step.\n",
    "\n",
    "First thing first. The data with no changes."
   ]
  },
  {
   "cell_type": "markdown",
   "metadata": {
    "_uuid": "35066b08bc4b8e39b7486336f1ad96ca99a26429"
   },
   "source": [
    "### All Algorithms baseline model"
   ]
  },
  {
   "cell_type": "code",
   "execution_count": null,
   "metadata": {
    "_uuid": "c843c8c897bac860af137de576046a4234247336"
   },
   "outputs": [],
   "source": [
    "from sklearn.linear_model import LogisticRegression\n",
    "from sklearn.model_selection import train_test_split\n",
    "from sklearn import metrics\n",
    "from sklearn.ensemble import RandomForestClassifier\n",
    "from sklearn import model_selection\n",
    "from sklearn.metrics import accuracy_score\n",
    "from sklearn.linear_model import LogisticRegression\n",
    "from sklearn.discriminant_analysis import LinearDiscriminantAnalysis\n",
    "from sklearn.tree import DecisionTreeClassifier\n",
    "from sklearn.neighbors import KNeighborsClassifier\n",
    "from sklearn.ensemble import RandomForestClassifier\n",
    "from sklearn.naive_bayes import GaussianNB\n",
    "from sklearn.svm import SVC\n",
    "from sklearn.ensemble import AdaBoostClassifier\n",
    "from imblearn.over_sampling import SMOTE  \n",
    "from imblearn.pipeline import Pipeline as Pipeline\n",
    "from sklearn.datasets import make_classification\n",
    "from sklearn.model_selection import (GridSearchCV,StratifiedKFold)"
   ]
  },
  {
   "cell_type": "markdown",
   "metadata": {
    "_uuid": "1bfcc5b480c7fdb5ac3542d68e8e6f9737352cef"
   },
   "source": [
    "Lets remember that this first modeling is with the data without been clean. The original data."
   ]
  },
  {
   "cell_type": "code",
   "execution_count": null,
   "metadata": {
    "_uuid": "ab9218128de71b7f3a64ee585341f9075e2540d5"
   },
   "outputs": [],
   "source": [
    "X=diabetes_copy.drop([\"Outcome\"], axis=1)\n",
    "y=diabetes_copy[\"Outcome\"]"
   ]
  },
  {
   "cell_type": "code",
   "execution_count": null,
   "metadata": {
    "_uuid": "b0df9078e2ece547b67b4844c6c47ec4fa5a022c"
   },
   "outputs": [],
   "source": [
    "scoring = 'roc_auc'\n",
    "seed=7\n",
    "models = [] # Here I will append all the algorithms that I will use. Each one will run in all the created datasets.\n",
    "models.append(('LR', LogisticRegression())) \n",
    "models.append(('LDA', LinearDiscriminantAnalysis()))\n",
    "models.append(('KNN', KNeighborsClassifier()))\n",
    "models.append(('CART', DecisionTreeClassifier()))\n",
    "models.append(('NB', GaussianNB()))\n",
    "models.append(('RF', RandomForestClassifier()))\n",
    "models.append(('SVM', SVC()))\n",
    "models.append(('AdaBoost', AdaBoostClassifier()))\n",
    "\n",
    "print(\"evaluation metric: \" + scoring)    \n",
    "results=[]\n",
    "names=[]\n",
    "for name, model in models:\n",
    "        kfold = model_selection.KFold(n_splits=10, random_state=seed)\n",
    "        cv_results = model_selection.cross_val_score(model,X, y, cv=kfold, scoring=scoring)\n",
    "        results.append(cv_results)\n",
    "        names.append(name)\n",
    "        \n",
    "        \n",
    "        print (\"Algorithm :\",name)\n",
    "        print (\" Baseline CV mean: \", cv_results.mean())\n",
    "        print (\"--\"*30)\n"
   ]
  },
  {
   "cell_type": "markdown",
   "metadata": {
    "_uuid": "ca1b30e678bc9d7ba409e32fe54a979da3f9d36e"
   },
   "source": [
    "So, the best algorithms are Logistic Regression and Linear Discriminant."
   ]
  },
  {
   "cell_type": "markdown",
   "metadata": {
    "_uuid": "ae4a20a29cbdf1b50e2244c5cb53008047572e80"
   },
   "source": [
    "### Logistic Regression Baseline model"
   ]
  },
  {
   "cell_type": "code",
   "execution_count": null,
   "metadata": {
    "_uuid": "a8ecd99c8321c11041d0b3f9f6f2c9bf874c7f39"
   },
   "outputs": [],
   "source": [
    "train_X,test_X,train_y,test_y = train_test_split (X,y,test_size=0.2,random_state=3)\n",
    "\n",
    "model1= LogisticRegression()\n",
    "fit1 =model1.fit(train_X,train_y)\n",
    "prediction1= model1.predict(test_X)\n",
    "confusion= metrics.confusion_matrix(test_y, prediction1)\n",
    "TP = confusion[1, 1]\n",
    "TN = confusion[0, 0]\n",
    "FP = confusion[0, 1]\n",
    "FN = confusion[1, 0]\n",
    "print (\"Baseline model accuracy: \", metrics.accuracy_score(test_y,prediction1))\n",
    "print (\"--\"*30)\n",
    "print (\"Baseline matrix confusion: \", \"\\n\",metrics.confusion_matrix(test_y,prediction1))\n",
    "print (\"--\"*30)\n",
    "print (\"Baseline sensitivity: \", TP / float(FN + TP))\n",
    "print (\"--\"*30)\n",
    "print (\"Baseline model specificity: \", TN / (TN + FP))\n",
    "print (\"--\"*30)\n",
    "print (\"Baseline roc auc score: \", \"\\n\", metrics.roc_auc_score(test_y,prediction1))"
   ]
  },
  {
   "cell_type": "markdown",
   "metadata": {
    "_uuid": "6f1bcee9aa315887f25c378685db0d6854b8c087"
   },
   "source": [
    "So it has a good ROC AUC score. But, it fails tremendosly in the sensitivity. And the sensitivity, the recall is the thing that we want to improve. \n",
    "*Sensitivity: When the actual value is positive, how often is the prediction correct?\n",
    "\n",
    "How \"sensitive\" is the classifier to detecting positive instances? Or in other words. If you have diabetes, will it detect it? The sensitivity is going to measure that. So, it needs to increase... A lot.\n",
    "\n",
    "The problem with sensitivity is that it will detect diabetes to people who dont have diabetes. But it is better that, than sending someone home telling them that they do not have diabetes.\n",
    "\n",
    "* For example, Imagine if you have cancer. The sensitivity is never going to fail if someone has cancer. But it can tell that someone has cancer withour having it.\n",
    "* The specificity is going to tell us that the person who have a positive test is going to have cancer for sure. BUT, and it is a big but, if someone who have cancer, have a negative test is going to pass undetected.\n",
    "* So, for differente imbalanced datasets, you are going to choose between sensitivity and specificity. In all the medical datasets, choose sensitivity."
   ]
  },
  {
   "cell_type": "markdown",
   "metadata": {
    "_uuid": "d5bf7baa6d50188e38157548643e9249bac0efd6"
   },
   "source": [
    " ### Linear discriminant analysis Classifier Baseline Model"
   ]
  },
  {
   "cell_type": "code",
   "execution_count": null,
   "metadata": {
    "_uuid": "cea816732360c9f9e17d9ff0fbad51762ad94fae"
   },
   "outputs": [],
   "source": [
    "X=diabetes_copy.drop([\"Outcome\"], axis=1)\n",
    "y=diabetes_copy[\"Outcome\"]\n",
    "\n",
    "train_X,test_X,train_y,test_y = train_test_split (X,y,test_size=0.2,random_state=3)\n",
    "\n",
    "model2= LinearDiscriminantAnalysis()\n",
    "fit2 =model2.fit(train_X,train_y)\n",
    "prediction2= model2.predict(test_X)\n",
    "confusion= metrics.confusion_matrix(test_y, prediction2)\n",
    "TP = confusion[1, 1]\n",
    "TN = confusion[0, 0]\n",
    "FP = confusion[0, 1]\n",
    "FN = confusion[1, 0]\n",
    "print (\"Baseline model accuracy: \", metrics.accuracy_score(test_y,prediction2))\n",
    "print (\"--\"*30)\n",
    "print (\"Baseline matrix confusion: \", \"\\n\",metrics.confusion_matrix(test_y,prediction2))\n",
    "print (\"--\"*30)\n",
    "print (\"Baseline sensitivity: \", TP / float(FN + TP))\n",
    "print (\"--\"*30)\n",
    "print (\"Baseline model specificity: \", TN / (TN + FP))\n",
    "print (\"--\"*30)\n",
    "print (\"Baseline roc auc score: \", \"\\n\", metrics.roc_auc_score(test_y,prediction2))"
   ]
  },
  {
   "cell_type": "markdown",
   "metadata": {
    "_uuid": "0bea1b4f579452e2200595ffcf96bf423a2d8bd7"
   },
   "source": [
    "So in the baseline model, LDA is the best. It performs poorly, but has better sensitivity than Logistic Regression."
   ]
  },
  {
   "cell_type": "markdown",
   "metadata": {
    "_uuid": "cf9d35d3ee723c0fe262d27a0a87c7b7a33bba44"
   },
   "source": [
    "#  Model with the data clean.\n",
    "\n",
    "The step that  I have perfomed at the beginning"
   ]
  },
  {
   "cell_type": "markdown",
   "metadata": {
    "_uuid": "18878473c55016ea0dcddbd7e74130811cec6d17"
   },
   "source": [
    "### All algorithms model with the data clean"
   ]
  },
  {
   "cell_type": "code",
   "execution_count": null,
   "metadata": {
    "_uuid": "ad19c7f7415c62404d865983672090e7016feec3"
   },
   "outputs": [],
   "source": [
    "X=diabetes.drop([\"Outcome\"], axis=1)\n",
    "y=diabetes[\"Outcome\"]"
   ]
  },
  {
   "cell_type": "code",
   "execution_count": null,
   "metadata": {
    "_uuid": "966b0406ffc6047b89c1cdbd3e7b25a2f980b218"
   },
   "outputs": [],
   "source": [
    "scoring = 'roc_auc'\n",
    "seed=7\n",
    "models = [] # Here I will append all the algorithms that I will use. Each one will run in all the created datasets.\n",
    "models.append(('LR', LogisticRegression())) \n",
    "models.append(('LDA', LinearDiscriminantAnalysis()))\n",
    "models.append(('KNN', KNeighborsClassifier()))\n",
    "models.append(('CART', DecisionTreeClassifier()))\n",
    "models.append(('NB', GaussianNB()))\n",
    "models.append(('RF', RandomForestClassifier()))\n",
    "models.append(('SVM', SVC()))\n",
    "models.append(('AdaBoost', AdaBoostClassifier()))\n",
    "\n",
    "print(\"evaluation metric: \" + scoring)    \n",
    "results=[]\n",
    "names=[]\n",
    "for name, model in models:\n",
    "        kfold = model_selection.KFold(n_splits=10, random_state=seed)\n",
    "        cv_results = model_selection.cross_val_score(model,X, y, cv=kfold, scoring=scoring)\n",
    "        results.append(cv_results)\n",
    "        names.append(name)\n",
    "        \n",
    "        \n",
    "        print (\"Algorithm :\",name)\n",
    "        print (\" Data clean CV mean: \", cv_results.mean())\n",
    "        print (\"--\"*30)\n"
   ]
  },
  {
   "cell_type": "markdown",
   "metadata": {
    "_uuid": "0ffd87014d36d1e2992119dc479f226d6c929a6e"
   },
   "source": [
    "Again, the best algorithms are LDA and Logistic Regression"
   ]
  },
  {
   "cell_type": "markdown",
   "metadata": {
    "_uuid": "fa52b56b90504a59903bb3a368c5d57259ffbf52"
   },
   "source": [
    "## Logistic Regression data clean"
   ]
  },
  {
   "cell_type": "code",
   "execution_count": null,
   "metadata": {
    "_uuid": "f5adca4a2fd3b9f17a9ffb65f01bfb8b7e2fe09d"
   },
   "outputs": [],
   "source": [
    "train_X,test_X,train_y,test_y = train_test_split (X,y,test_size=0.2,random_state=3)\n",
    "\n",
    "model3=LogisticRegression()\n",
    "fit3 =model3.fit(train_X,train_y)\n",
    "prediction3= model3.predict(test_X)\n",
    "confusion= metrics.confusion_matrix(test_y, prediction3)\n",
    "TP = confusion[1, 1]\n",
    "TN = confusion[0, 0]\n",
    "FP = confusion[0, 1]\n",
    "FN = confusion[1, 0]\n",
    "\n",
    "print (\"Data clean model roc auc score: \",metrics.roc_auc_score(test_y,prediction3))\n",
    "print (\"__\"*30)\n",
    "print (\"Data clean model matrix confusion: \", \"\\n\",metrics.confusion_matrix(test_y,prediction3))\n",
    "print (\"--\"*30)\n",
    "print (\"Data clean model sensitivity: \", TP / float(FN + TP))\n",
    "print (\"--\"*30)\n",
    "print (\"Data clean model specificity: \", TN / (TN + FP))\n",
    "print (\"__\"*30)\n",
    "print (\"Data clean model accuracy: \", metrics.accuracy_score(test_y,prediction3))\n"
   ]
  },
  {
   "cell_type": "markdown",
   "metadata": {
    "_uuid": "9e6361e33b453999fa6323b7249b89887b8ec8e3"
   },
   "source": [
    "Well, a disaster. The sensitivity has plummed. It could be because of the fill in the NaN values with the median. Lets see how performs LDA."
   ]
  },
  {
   "cell_type": "markdown",
   "metadata": {
    "_uuid": "212616549da5cbba2fd4a92dfe7cd7a82700e1ca"
   },
   "source": [
    "### Linear discriminant analysis with the data clean"
   ]
  },
  {
   "cell_type": "code",
   "execution_count": null,
   "metadata": {
    "_uuid": "55982962a5529b544d7741c3e270f67e08a4622e"
   },
   "outputs": [],
   "source": [
    "train_X,test_X,train_y,test_y = train_test_split (X,y,test_size=0.2,random_state=3)\n",
    "\n",
    "model4=LinearDiscriminantAnalysis()\n",
    "fit4 =model4.fit(train_X,train_y)\n",
    "prediction4= model4.predict(test_X)\n",
    "confusion= metrics.confusion_matrix(test_y, prediction4)\n",
    "TP = confusion[1, 1]\n",
    "TN = confusion[0, 0]\n",
    "FP = confusion[0, 1]\n",
    "FN = confusion[1, 0]\n",
    "\n",
    "print (\"Data clean model roc auc score: \",metrics.roc_auc_score(test_y,prediction4))\n",
    "print (\"__\"*30)\n",
    "print (\"Data clean model matrix confusion: \", \"\\n\",metrics.confusion_matrix(test_y,prediction4))\n",
    "print (\"--\"*30)\n",
    "print (\"Data clean model sensitivity: \", TP / float(FN + TP))\n",
    "print (\"--\"*30)\n",
    "print (\"Data clean model specificity: \", TN / (TN + FP))\n",
    "print (\"__\"*30)\n",
    "print (\"Data clean model accuracy: \", metrics.accuracy_score(test_y,prediction4))"
   ]
  },
  {
   "cell_type": "markdown",
   "metadata": {
    "_uuid": "39b84ae4871e5ee0feaf5711324d2a47df1c62ba"
   },
   "source": [
    "Also, the results looks very very bad. Lets scale and normalize the datasets to make everything work better. The reason is for the filling with the median. It has change the distribution, so it is time to normalize it, and with that lets expect an increment in sensitivity"
   ]
  },
  {
   "cell_type": "markdown",
   "metadata": {
    "_uuid": "e6ab389b603fb4680777626471994d33ab165ed7"
   },
   "source": [
    " # Modeling with the data clean and scaled"
   ]
  },
  {
   "cell_type": "code",
   "execution_count": null,
   "metadata": {
    "_uuid": "fe65893b6c1bc42da356b3eb9d512ce0de8312a0"
   },
   "outputs": [],
   "source": [
    "from sklearn.preprocessing import StandardScaler\n",
    "X=diabetes.drop([\"Outcome\"],axis=1)\n",
    "print (X.info())\n",
    "columnas=[\"Pregnancies\",\"Glucose\",\"BloodPressure\",\"SkinThickness\",\"Insulin\",\"BMI\",\"DiabetesPedigreeFunction\",\"Age\"]\n",
    "scaler = StandardScaler()\n",
    "scaler.fit(X)\n",
    "X_scaled = scaler.transform(X)\n",
    "X=pd.DataFrame(X_scaled, columns=[columnas])\n"
   ]
  },
  {
   "cell_type": "code",
   "execution_count": null,
   "metadata": {
    "_uuid": "e12f8022d8026106ef1acd93d904a4454c072113",
    "scrolled": true
   },
   "outputs": [],
   "source": [
    "X.head()"
   ]
  },
  {
   "cell_type": "markdown",
   "metadata": {
    "_uuid": "86a443ac421bcb41100a141d0960a16b4a1c0a79"
   },
   "source": [
    "### All algorithms modeling with the data clean and scaled."
   ]
  },
  {
   "cell_type": "code",
   "execution_count": null,
   "metadata": {
    "_uuid": "b1afbc51d1d4faa817b0a7b2ac1032e216bb3f78"
   },
   "outputs": [],
   "source": [
    "scoring = 'roc_auc'\n",
    "seed=7\n",
    "models = [] # Here I will append all the algorithms that I will use. Each one will run in all the created datasets.\n",
    "models.append(('LR', LogisticRegression())) \n",
    "models.append(('LDA', LinearDiscriminantAnalysis()))\n",
    "models.append(('KNN', KNeighborsClassifier()))\n",
    "models.append(('CART', DecisionTreeClassifier()))\n",
    "models.append(('NB', GaussianNB()))\n",
    "models.append(('RF', RandomForestClassifier()))\n",
    "models.append(('SVM', SVC()))\n",
    "models.append(('AdaBoost', AdaBoostClassifier()))\n",
    "\n",
    "print(\"evaluation metric: \" + scoring)    \n",
    "results=[]\n",
    "names=[]\n",
    "for name, model in models:\n",
    "        kfold = model_selection.KFold(n_splits=10, random_state=seed)\n",
    "        cv_results = model_selection.cross_val_score(model,X, y, cv=kfold, scoring=scoring)\n",
    "        results.append(cv_results)\n",
    "        names.append(name)\n",
    "        \n",
    "        \n",
    "        print (\"Algorithm :\",name)\n",
    "        print (\" Data clean & scaled CV mean: \", cv_results.mean())\n",
    "        print (\"--\"*30)"
   ]
  },
  {
   "cell_type": "markdown",
   "metadata": {
    "_uuid": "b349f2743bc34f9c9c544e13191d97baee20b55c"
   },
   "source": [
    "### Logistic Regression data clean and scaled"
   ]
  },
  {
   "cell_type": "code",
   "execution_count": null,
   "metadata": {
    "_uuid": "9d70145266dc0e1d5a46a3942a376fd8a303666b"
   },
   "outputs": [],
   "source": [
    "train_X,test_X,train_y,test_y = train_test_split (X,y,test_size=0.2,random_state=3)\n",
    "\n",
    "model5= LogisticRegression()\n",
    "fit5 =model5.fit(train_X,train_y)\n",
    "prediction5= model5.predict(test_X)\n",
    "confusion= metrics.confusion_matrix(test_y, prediction5)\n",
    "TP = confusion[1, 1]\n",
    "TN = confusion[0, 0]\n",
    "FP = confusion[0, 1]\n",
    "FN = confusion[1, 0]\n",
    "\n",
    "print (\"Data clean & scaled roc auc score: \", \"\\n\", metrics.roc_auc_score(test_y,prediction5))\n",
    "print (\"--\"*30)\n",
    "print (\"Data clean & scaled matrix confusion: \", \"\\n\",metrics.confusion_matrix(test_y,prediction5))\n",
    "print (\"--\"*30)\n",
    "print (\"Data clean & scaled model sensitivity: \", TP / float(FN + TP))\n",
    "print (\"--\"*30)\n",
    "print (\"Data clean & scaled model specificity: \", TN / (TN + FP))\n",
    "print (\"__\"*30)\n",
    "print (\"Data clean & scaled model accuracy: \", metrics.accuracy_score(test_y,prediction5))\n"
   ]
  },
  {
   "cell_type": "markdown",
   "metadata": {
    "_uuid": "2aaad0fd12e23a3dd9e12fb08cdac8cb05afa239"
   },
   "source": [
    "And now we can see an improve."
   ]
  },
  {
   "cell_type": "markdown",
   "metadata": {
    "_uuid": "2109de376b8d715970b452f65e585ace63c6a86c"
   },
   "source": [
    "### Linear discriminant Analysis Data clean and scaled"
   ]
  },
  {
   "cell_type": "code",
   "execution_count": null,
   "metadata": {
    "_uuid": "f513ce24995f36015cbdac922491ec57b52c7e58"
   },
   "outputs": [],
   "source": [
    "train_X,test_X,train_y,test_y = train_test_split (X,y,test_size=0.2,random_state=3)\n",
    "\n",
    "model= LinearDiscriminantAnalysis()\n",
    "fit6 =model.fit(train_X,train_y)\n",
    "prediction6= model.predict(test_X)\n",
    "confusion= metrics.confusion_matrix(test_y, prediction6)\n",
    "TP = confusion[1, 1]\n",
    "TN = confusion[0, 0]\n",
    "FP = confusion[0, 1]\n",
    "FN = confusion[1, 0]\n",
    "\n",
    "print (\"Data clean & scaled roc auc score: \", \"\\n\", metrics.roc_auc_score(test_y,prediction6))\n",
    "print (\"--\"*30)\n",
    "print (\"Data clean & scaled matrix confusion: \", \"\\n\",metrics.confusion_matrix(test_y,prediction6))\n",
    "print (\"--\"*30)\n",
    "print (\"Data clean & scaled model sensitivity: \", TP / float(FN + TP))\n",
    "print (\"--\"*30)\n",
    "print (\"Data clean & scaled model specificity: \", TN / (TN + FP))\n",
    "print (\"__\"*30)\n",
    "print (\"Data clean & scaled model accuracy: \", metrics.accuracy_score(test_y,prediction6))\n"
   ]
  },
  {
   "cell_type": "markdown",
   "metadata": {
    "_uuid": "2507e73e8678a2cc461773200fd2c13229a78628"
   },
   "source": [
    "# Smoke, GridSearch, CV.\n",
    "\n",
    "Because Logistic Regression and LDA have been the best algorithms, I will keep working with them. \n",
    "* At the beginning I analized the distribution of the outcome. It showed and inbalanced dataset. And the problem with that is that some algorithms, like Logistic Regression, place more weight in the majority class. In this case, not having diabetes--> Low sensitivity---> Something awful.\n",
    "* To avoid that, we can oversample or undersample.\n",
    "    * Because we have few samples i Will oversample. And I will do it with the SMOTE technique."
   ]
  },
  {
   "cell_type": "markdown",
   "metadata": {
    "_uuid": "512b1c8be3dd59b89d06a4508ec388ee1cadcacd"
   },
   "source": [
    "### Logistic Regression Oversampling with Smote"
   ]
  },
  {
   "cell_type": "code",
   "execution_count": null,
   "metadata": {
    "_uuid": "ba8313f4aeada4d2939707267e8c983d43a88e5a",
    "scrolled": true
   },
   "outputs": [],
   "source": [
    "from imblearn.over_sampling import SMOTE  \n",
    "from imblearn.pipeline import Pipeline as Pipeline\n",
    "\n",
    "from sklearn.datasets import make_classification\n",
    "from sklearn.ensemble import RandomForestClassifier\n",
    "from sklearn.model_selection import (GridSearchCV,StratifiedKFold)\n",
    "\n",
    "\n",
    "X_train, X_test, y_train, y_test = train_test_split(\n",
    "    X, y, test_size=0.33, random_state=444, stratify=y)\n",
    "\n",
    "pipe = Pipeline([\n",
    "    ('oversample', SMOTE(random_state=444)),\n",
    "    ('clf', LogisticRegression(random_state=444, n_jobs=-1))\n",
    "    ])\n",
    "\n",
    "skf = StratifiedKFold(n_splits=10)\n",
    "param_grid = {'clf__C': [0.001,0.01,0.1,1,10,100],\n",
    "              'clf__penalty': ['l1', 'l2']}\n",
    "grid = GridSearchCV(pipe, param_grid, return_train_score=False,\n",
    "                    n_jobs=-1, scoring=\"roc_auc\", cv=skf)\n",
    "logreg=grid.fit(X_train, y_train)\n",
    "grid.score(X_test, y_test)\n",
    "# View best hyperparameters\n",
    "prediction7= grid.predict(X_test)\n",
    "confusion= metrics.confusion_matrix(y_test, prediction7)\n",
    "TP = confusion[1, 1]\n",
    "TN = confusion[0, 0]\n",
    "FP = confusion[0, 1]\n",
    "FN = confusion[1, 0]\n",
    "\n",
    "print (\"SMOTE roc auc score: \", \"\\n\", metrics.roc_auc_score(y_test,prediction7))\n",
    "print (\"--\"*30)\n",
    "print (\"SMOTE matrix confusion: \", \"\\n\",metrics.confusion_matrix(y_test,prediction7))\n",
    "print (\"--\"*30)\n",
    "print (\"SMOTE sensitivity: \", TP / float(FN + TP))\n",
    "print (\"--\"*30)\n",
    "print (\"SMOTE model specificity: \", TN / (TN + FP))\n",
    "print (\"__\"*30)\n",
    "print (\"SMOTE model accuracy: \", metrics.accuracy_score(y_test,prediction7))\n",
    "print (\"--\"*30)\n",
    "\n",
    "print('Best Penalty:', grid.best_estimator_.get_params()['clf__penalty'])\n",
    "print('Best C:', grid.best_estimator_.get_params()['clf__C'])\n",
    "\n",
    "\n"
   ]
  },
  {
   "cell_type": "markdown",
   "metadata": {
    "_uuid": "0287bbd31d417821fd61031768c9c9a5ac8159f7"
   },
   "source": [
    "And a huge incremente in sensitivity and Roc."
   ]
  },
  {
   "cell_type": "markdown",
   "metadata": {
    "_uuid": "9bc9f51577830a3f1eda0d5b73e9d1a1611e4dd5"
   },
   "source": [
    "### Linear Discriminant analysis Classifier oversampling with SMOTE"
   ]
  },
  {
   "cell_type": "code",
   "execution_count": null,
   "metadata": {
    "_uuid": "25b2e40dd2465ddf0327a1238adb44cbc4ca6086"
   },
   "outputs": [],
   "source": [
    "X_train, X_test, y_train, y_test = train_test_split(\n",
    "    X, y, test_size=0.33, random_state=444, stratify=y)\n",
    "\n",
    "pipe2 = Pipeline([\n",
    "    ('oversample', SMOTE(random_state=444)),\n",
    "    ('clf', LinearDiscriminantAnalysis())])\n",
    "\n",
    "skf2 = StratifiedKFold(n_splits=10)\n",
    "param_grid = {'clf__n_components': [1]}\n",
    "grid = GridSearchCV(pipe2, param_grid, return_train_score=False,\n",
    "                    n_jobs=-1, scoring=\"roc_auc\", cv=skf2)\n",
    "LDA=grid.fit(X_train, y_train)\n",
    "grid.score(X_test, y_test)\n",
    "# View best hyperparameters\n",
    "prediction8= LDA.predict(X_test)\n",
    "confusion2= metrics.confusion_matrix(y_test, prediction8)\n",
    "TP = confusion2[1, 1]\n",
    "TN = confusion2[0, 0]\n",
    "FP = confusion2[0, 1]\n",
    "FN = confusion2[1, 0]\n",
    "\n",
    "print (\"SMOTE roc auc score: \", \"\\n\", metrics.roc_auc_score(y_test,prediction8))\n",
    "print (\"--\"*30)\n",
    "print (\"SMOTE matrix confusion: \", \"\\n\",metrics.confusion_matrix(y_test,prediction8))\n",
    "print (\"--\"*30)\n",
    "print (\"SMOTE sensitivity: \", TP / float(FN + TP))\n",
    "print (\"--\"*30)\n",
    "print (\"SMOTE model specificity: \", TN / (TN + FP))\n",
    "print (\"__\"*30)\n",
    "print (\"SMOTE model accuracy: \", metrics.accuracy_score(y_test,prediction8))\n",
    "print (\"--\"*30)\n",
    "\n",
    "print('Best Number of components:', grid.best_estimator_.get_params()['clf__n_components'])\n"
   ]
  },
  {
   "cell_type": "markdown",
   "metadata": {
    "_uuid": "314c00cc044b5f22ab05caf459ddef4a03ff0a08"
   },
   "source": [
    "Also, a huge increment. But in hear the sensitivity is not as good as in the Logistic Regression, so I will keep working with that algorithm."
   ]
  },
  {
   "cell_type": "markdown",
   "metadata": {
    "_uuid": "89f05039f2629860fc2bb6a12640b09bfbde0ad0"
   },
   "source": [
    "# Sensitivity Threshold and ROC curve"
   ]
  },
  {
   "cell_type": "markdown",
   "metadata": {
    "_uuid": "20ce671c6dbd73197b6dc7651963077e94a03f9c"
   },
   "source": [
    "We have seen now, how the roc auc is growing. But we have a little problem. \n",
    "The specificity is going down. Is this a bad thing?\n",
    "Well no. In this case is not, because here we are interested in the sensitivity.\n",
    "\n",
    "* A high specificity tell us that the correct things are going to be well classified. This is good.\n",
    "* A high sensitivity tell us that we are not going to allow any person with diabetes to be classified as a healthy person.\n",
    "* In a medical work, is more important to not allow mistakes, rather than making good predictions. So, the good thing now is to improve the sensitivity.\n",
    "* Now, I will analyze the sensitivity threshold and see how everything changes. I will be working with the LogisticRegression of the SMOTE technique."
   ]
  },
  {
   "cell_type": "markdown",
   "metadata": {
    "_uuid": "d5455c555dc531d9b8311516de0777d56dc109e3"
   },
   "source": [
    "Lets start seeing the first 10 predicted responses."
   ]
  },
  {
   "cell_type": "code",
   "execution_count": null,
   "metadata": {
    "_uuid": "b264fb074e616c3c7653cbcb283439009cb6aa87"
   },
   "outputs": [],
   "source": [
    "logreg.predict(X_test)[0:10]"
   ]
  },
  {
   "cell_type": "markdown",
   "metadata": {
    "_uuid": "dd96a4e8fce01cc14d9c5438055808b825feff6a"
   },
   "source": [
    "Now, lets see the 10 predicted probabilites for each label. Outcome diabetes and Outcome not diabetes."
   ]
  },
  {
   "cell_type": "code",
   "execution_count": null,
   "metadata": {
    "_uuid": "bc29992ca7f56717de5bc69387b4190b8b66153e"
   },
   "outputs": [],
   "source": [
    "logreg.predict_proba(X_test)[0:10]"
   ]
  },
  {
   "cell_type": "markdown",
   "metadata": {
    "_uuid": "257e98918d59790cd62157bb5724029f502b3a3f"
   },
   "source": [
    "Each row, numbers sum to 1 (total probability), and we have two columns:\n",
    "\n",
    "* column 0: predicted probability that each observation is a member of the non diabetic group\n",
    "* column 1: predicted probability that each observation is a member of the diabetic group.\n",
    "    * Now with that information we can now work with another probability. We can choose the class with the highest probability with the predict proba process. And with that, we can see the classification threshold. Lets continue with the code to understand it better.\n"
   ]
  },
  {
   "cell_type": "markdown",
   "metadata": {
    "_uuid": "593e465096f1a0b055c0ad6413787c53798bd0cc"
   },
   "source": [
    "Lets see the first 10 predicted probabilities for the diabetic group."
   ]
  },
  {
   "cell_type": "code",
   "execution_count": null,
   "metadata": {
    "_uuid": "aed924faea66e85af5c5cdbe8367527c5569a3d8"
   },
   "outputs": [],
   "source": [
    "logreg.predict_proba(X_test)[0:10, 1]"
   ]
  },
  {
   "cell_type": "markdown",
   "metadata": {
    "_uuid": "fde2888548b8353406afd52553f2022059ee7b7a"
   },
   "source": [
    "So, the first one has 33% posibilities to be a diabetic person. The same with the others.\n",
    "Now, lets save that data to plot it."
   ]
  },
  {
   "cell_type": "code",
   "execution_count": null,
   "metadata": {
    "_uuid": "06a86c9b38140efbd332e66714b242e080beee26"
   },
   "outputs": [],
   "source": [
    "y_pred_prob = logreg.predict_proba(X_test)[:, 1] # Here I saved all the samples, not just 10."
   ]
  },
  {
   "cell_type": "code",
   "execution_count": null,
   "metadata": {
    "_uuid": "fad42b8a2acb0e4b25674746cc9118a7d07d8acf"
   },
   "outputs": [],
   "source": [
    "plt.hist(y_pred_prob, bins=8)\n",
    "\n",
    "# x-axis limit from 0 to 1\n",
    "plt.xlim(0,1)\n",
    "plt.title('Histogram of predicted probabilities')\n",
    "plt.xlabel('Predicted probability of diabetes')\n",
    "plt.ylabel('Frequency')"
   ]
  },
  {
   "cell_type": "markdown",
   "metadata": {
    "_uuid": "7053114ae5b047c62fe7079eacde01d4eeca4067"
   },
   "source": [
    "We see that around the 3-4 bar we have almost all the predictions. This is because the threshold is by default around 0.5. If we change it, we can change also the specificity and sensitivity of our model. And in this case we want to do it to increase the sensitivity.\n",
    "\n",
    "Lets see how to change it."
   ]
  },
  {
   "cell_type": "code",
   "execution_count": null,
   "metadata": {
    "_uuid": "807e78b368cc4ebd2d6a00bbe41e82a130f4dc1f"
   },
   "outputs": [],
   "source": [
    "from sklearn.preprocessing import binarize\n",
    "y_pred_prob=y_pred_prob.reshape(1,-1)\n",
    "# it will return 1 for all values above 0.3 and 0 otherwise\n",
    "# results are 2D so we slice out the first column\n",
    "y_pred_class = binarize(y_pred_prob, 0.3)[0]"
   ]
  },
  {
   "cell_type": "code",
   "execution_count": null,
   "metadata": {
    "_uuid": "04912a07dd3ac377c7bcbb58a6df715eb6d7f762"
   },
   "outputs": [],
   "source": [
    "y_pred_prob[0:10]"
   ]
  },
  {
   "cell_type": "code",
   "execution_count": null,
   "metadata": {
    "_uuid": "73450a4d11b6ceb08b39efbcca0053a6223898b4"
   },
   "outputs": [],
   "source": [
    "y_pred_class[0:10]"
   ]
  },
  {
   "cell_type": "markdown",
   "metadata": {
    "_uuid": "0199e30626516cba2f1f8ba0bcb4468cbd0fa640"
   },
   "source": [
    "And this way you can change the sensitivity threshold. Anyways, continue with the code to see how to do it. But in essence, I just need to change the value of binarize to other threshold, and the sensitivity and specificity will change."
   ]
  },
  {
   "cell_type": "markdown",
   "metadata": {
    "_uuid": "97325d23f0237ae5f72211c90286bab80c3610a4"
   },
   "source": [
    "# ROC curve"
   ]
  },
  {
   "cell_type": "code",
   "execution_count": null,
   "metadata": {
    "_uuid": "c91597d442fd5e2283e220697314c222cde09442"
   },
   "outputs": [],
   "source": [
    "y_pred_prob = logreg.predict_proba(X_test)[:, 1] # remember that equation\n",
    "fpr, tpr, thresholds = metrics.roc_curve(y_test, y_pred_prob)\n",
    "\n",
    "plt.plot(fpr, tpr)\n",
    "plt.xlim([0.0, 1.0])\n",
    "plt.ylim([0.0, 1.0])\n",
    "plt.rcParams['font.size'] = 12\n",
    "plt.title('ROC curve for diabetes classifier')\n",
    "plt.xlabel('False Positive Rate (1 - Specificity)')\n",
    "plt.ylabel('True Positive Rate (Sensitivity)')\n",
    "plt.grid(True)"
   ]
  },
  {
   "cell_type": "markdown",
   "metadata": {
    "_uuid": "39d9a96e53d5b52de668fa6d82765d26a6297a63"
   },
   "source": [
    "ROC curve can help you  choose a threshold that balances sensitivity and specificity in a way that makes sense for the  context. We cannot see the threshold but we can compute them. \n",
    "* Anyway, we need to find a balance between sensitivity and specifity now.\n"
   ]
  },
  {
   "cell_type": "code",
   "execution_count": null,
   "metadata": {
    "_uuid": "013fdefbda7a166175ece9e0f57b1673221d26aa"
   },
   "outputs": [],
   "source": [
    "def evaluate_threshold(threshold):\n",
    "    print('Sensitivity:', tpr[thresholds > threshold][-1])\n",
    "    print('Specificity:', 1 - fpr[thresholds > threshold][-1])"
   ]
  },
  {
   "cell_type": "markdown",
   "metadata": {
    "_uuid": "71d19fde26ebe5bb1dbb5d7bae43db2ace6c26c6"
   },
   "source": [
    "Now we can see how the values of sensitivity and specifity choosing the threshold. When we find one that we like, we can change the value of the binarize and get an extremely optimized model."
   ]
  },
  {
   "cell_type": "code",
   "execution_count": null,
   "metadata": {
    "_uuid": "d6e2c4593a240c04a91729be154bec44a7b9c59b"
   },
   "outputs": [],
   "source": [
    "evaluate_threshold(0.5) # For example."
   ]
  },
  {
   "cell_type": "markdown",
   "metadata": {
    "_uuid": "2032383d940e7be2931a3303980f1478b491d522"
   },
   "source": [
    "Now, lets compute the AUC and finish the work of our model.\n",
    "*AUC is the percentage of the ROC plot that is underneath the curve:"
   ]
  },
  {
   "cell_type": "code",
   "execution_count": null,
   "metadata": {
    "_uuid": "c8abc3e802cda8c56e188ee61390c28422805ac5"
   },
   "outputs": [],
   "source": [
    "print(metrics.roc_auc_score(y_test, y_pred_prob))"
   ]
  },
  {
   "cell_type": "code",
   "execution_count": null,
   "metadata": {
    "_uuid": "3f0afc60fe03e8bc3abf63dfb3d6ff6bedf6c7bd"
   },
   "outputs": [],
   "source": [
    "from sklearn.cross_validation import cross_val_score\n",
    "cross_val_score(logreg, X, y, cv=10, scoring='roc_auc').mean()"
   ]
  },
  {
   "cell_type": "markdown",
   "metadata": {
    "_uuid": "75cbfe23f21cfde1c78d26fb4a3ff94205adf187"
   },
   "source": [
    "And we have finish. We have a model with a 0.836 % in roc_auc metric, so it is extremely well balanced for this dataset. Also, we can change our threshold and get more specificity or sensitivity whenever we want.\n",
    "\n",
    "And that is all."
   ]
  }
 ],
 "metadata": {
  "kernelspec": {
   "display_name": "Python 3",
   "language": "python",
   "name": "python3"
  },
  "language_info": {
   "codemirror_mode": {
    "name": "ipython",
    "version": 3
   },
   "file_extension": ".py",
   "mimetype": "text/x-python",
   "name": "python",
   "nbconvert_exporter": "python",
   "pygments_lexer": "ipython3",
   "version": "3.7.4"
  }
 },
 "nbformat": 4,
 "nbformat_minor": 1
}
